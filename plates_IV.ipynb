{
  "nbformat": 4,
  "nbformat_minor": 0,
  "metadata": {
    "colab": {
      "name": "plates_IV.ipynb",
      "provenance": [],
      "collapsed_sections": []
    },
    "kernelspec": {
      "name": "python3",
      "display_name": "Python 3"
    }
  },
  "cells": [
    {
      "cell_type": "code",
      "metadata": {
        "id": "5UfpC9Mn7YxB",
        "colab_type": "code",
        "colab": {
          "base_uri": "https://localhost:8080/",
          "height": 1000
        },
        "outputId": "33aa75fc-309c-4dc3-bbc9-087fc2067928"
      },
      "source": [
        "#the following setup stuff is from: https://nickwan.github.io/pycairo-and-colab/\n",
        "\n",
        "# This advice comes from https://github.com/pygobject/pycairo/issues/39#issuecomment-391830334\n",
        "!apt-get install libcairo2-dev libjpeg-dev libgif-dev\n",
        "!pip install pycairo\n",
        "\n",
        "import cairo\n",
        "from google.colab import files\n",
        "from IPython.display import SVG, display, Image\n",
        "\n",
        "def show_svg(file):\n",
        "    display(SVG(filename=file))\n"
      ],
      "execution_count": null,
      "outputs": [
        {
          "output_type": "stream",
          "text": [
            "Reading package lists... Done\n",
            "Building dependency tree       \n",
            "Reading state information... Done\n",
            "libjpeg-dev is already the newest version (8c-2ubuntu8).\n",
            "libjpeg-dev set to manually installed.\n",
            "The following package was automatically installed and is no longer required:\n",
            "  libnvidia-common-440\n",
            "Use 'apt autoremove' to remove it.\n",
            "The following additional packages will be installed:\n",
            "  libcairo-script-interpreter2 libpixman-1-dev libxcb-shm0-dev\n",
            "Suggested packages:\n",
            "  libcairo2-doc\n",
            "The following NEW packages will be installed:\n",
            "  libcairo-script-interpreter2 libcairo2-dev libgif-dev libpixman-1-dev\n",
            "  libxcb-shm0-dev\n",
            "0 upgraded, 5 newly installed, 0 to remove and 35 not upgraded.\n",
            "Need to get 951 kB of archives.\n",
            "After this operation, 4,084 kB of additional disk space will be used.\n",
            "Get:1 http://archive.ubuntu.com/ubuntu bionic-updates/main amd64 libcairo-script-interpreter2 amd64 1.15.10-2ubuntu0.1 [53.5 kB]\n",
            "Get:2 http://archive.ubuntu.com/ubuntu bionic/main amd64 libpixman-1-dev amd64 0.34.0-2 [244 kB]\n",
            "Get:3 http://archive.ubuntu.com/ubuntu bionic-updates/main amd64 libxcb-shm0-dev amd64 1.13-2~ubuntu18.04 [6,684 B]\n",
            "Get:4 http://archive.ubuntu.com/ubuntu bionic-updates/main amd64 libcairo2-dev amd64 1.15.10-2ubuntu0.1 [626 kB]\n",
            "Get:5 http://archive.ubuntu.com/ubuntu bionic-updates/main amd64 libgif-dev amd64 5.1.4-2ubuntu0.1 [20.6 kB]\n",
            "Fetched 951 kB in 2s (405 kB/s)\n",
            "Selecting previously unselected package libcairo-script-interpreter2:amd64.\n",
            "(Reading database ... 144465 files and directories currently installed.)\n",
            "Preparing to unpack .../libcairo-script-interpreter2_1.15.10-2ubuntu0.1_amd64.deb ...\n",
            "Unpacking libcairo-script-interpreter2:amd64 (1.15.10-2ubuntu0.1) ...\n",
            "Selecting previously unselected package libpixman-1-dev:amd64.\n",
            "Preparing to unpack .../libpixman-1-dev_0.34.0-2_amd64.deb ...\n",
            "Unpacking libpixman-1-dev:amd64 (0.34.0-2) ...\n",
            "Selecting previously unselected package libxcb-shm0-dev:amd64.\n",
            "Preparing to unpack .../libxcb-shm0-dev_1.13-2~ubuntu18.04_amd64.deb ...\n",
            "Unpacking libxcb-shm0-dev:amd64 (1.13-2~ubuntu18.04) ...\n",
            "Selecting previously unselected package libcairo2-dev:amd64.\n",
            "Preparing to unpack .../libcairo2-dev_1.15.10-2ubuntu0.1_amd64.deb ...\n",
            "Unpacking libcairo2-dev:amd64 (1.15.10-2ubuntu0.1) ...\n",
            "Selecting previously unselected package libgif-dev.\n",
            "Preparing to unpack .../libgif-dev_5.1.4-2ubuntu0.1_amd64.deb ...\n",
            "Unpacking libgif-dev (5.1.4-2ubuntu0.1) ...\n",
            "Setting up libcairo-script-interpreter2:amd64 (1.15.10-2ubuntu0.1) ...\n",
            "Setting up libgif-dev (5.1.4-2ubuntu0.1) ...\n",
            "Setting up libxcb-shm0-dev:amd64 (1.13-2~ubuntu18.04) ...\n",
            "Setting up libpixman-1-dev:amd64 (0.34.0-2) ...\n",
            "Setting up libcairo2-dev:amd64 (1.15.10-2ubuntu0.1) ...\n",
            "Processing triggers for libc-bin (2.27-3ubuntu1) ...\n",
            "/sbin/ldconfig.real: /usr/local/lib/python3.6/dist-packages/ideep4py/lib/libmkldnn.so.0 is not a symbolic link\n",
            "\n",
            "Collecting pycairo\n",
            "\u001b[?25l  Downloading https://files.pythonhosted.org/packages/e8/9d/c8be300fc6b1298559d37a071c3833b0b251e0fff334d2e4c408d5789162/pycairo-1.19.1.tar.gz (205kB)\n",
            "\u001b[K     |████████████████████████████████| 215kB 2.7MB/s \n",
            "\u001b[?25hBuilding wheels for collected packages: pycairo\n",
            "  Building wheel for pycairo (setup.py) ... \u001b[?25l\u001b[?25hdone\n",
            "  Created wheel for pycairo: filename=pycairo-1.19.1-cp36-cp36m-linux_x86_64.whl size=241273 sha256=0e7c4293371819c5d45a071c32dad82813c449c9900d24aea651c45beef70da0\n",
            "  Stored in directory: /root/.cache/pip/wheels/34/08/71/ef11d2526c2cb17a581088a89dfe1258f17c911e55ebde0550\n",
            "Successfully built pycairo\n",
            "Installing collected packages: pycairo\n",
            "Successfully installed pycairo-1.19.1\n"
          ],
          "name": "stdout"
        }
      ]
    },
    {
      "cell_type": "code",
      "metadata": {
        "id": "kqKBEUUP77CZ",
        "colab_type": "code",
        "colab": {}
      },
      "source": [
        "import numpy as np\n",
        "from matplotlib.colors import to_rgb"
      ],
      "execution_count": null,
      "outputs": []
    },
    {
      "cell_type": "markdown",
      "metadata": {
        "id": "SWYsc1zw9I6b",
        "colab_type": "text"
      },
      "source": [
        "# Plate IV-I"
      ]
    },
    {
      "cell_type": "code",
      "metadata": {
        "id": "fFAnsRXTC0DO",
        "colab_type": "code",
        "colab": {
          "base_uri": "https://localhost:8080/",
          "height": 1000
        },
        "outputId": "8ee86806-4626-4a28-9794-78ba7d2c2078"
      },
      "source": [
        "p = 0.1\n",
        "\n",
        "with cairo.SVGSurface(\"example.svg\", 700, 1000) as surface:\n",
        "    context = cairo.Context(surface)\n",
        "    context.scale(700, 1000)\n",
        "\n",
        "    # Top blue-green stripe\n",
        "    context.set_source_rgb(*to_rgb(\"#57badb\"))\n",
        "    context.rectangle(0, 0, 1, 1/3)\n",
        "    context.fill()\n",
        "\n",
        "    # Top-Center dark-blue stripe\n",
        "    context.set_source_rgb(*to_rgb(\"#0059b3\"))\n",
        "    context.rectangle(0, 1/3, 1, 1/6)\n",
        "    context.fill()\n",
        "\n",
        "    # Bottom-Center yellow stripe\n",
        "    context.set_source_rgb(*to_rgb(\"#ffff66\"))\n",
        "    context.rectangle(0, 1/2, 1, 1/6)\n",
        "    context.fill()\n",
        "\n",
        "    # Bottom ochre stripe\n",
        "    context.set_source_rgb(*to_rgb(\"#d99126\"))\n",
        "    context.rectangle(0, 2/3, 1, 1/3)\n",
        "    context.fill()\n",
        "\n",
        "    #common color\n",
        "    # #c68c53\n",
        "    # #ac8853\n",
        "    context.set_source_rgb(*to_rgb(\"#c68c53\"))\n",
        "    context.rectangle(1/2 - p, 1/3 - p,\n",
        "                      2*p, p)\n",
        "    context.fill()\n",
        "\n",
        "    context.rectangle(1/2 - p, 2/3 ,\n",
        "                      2*p, p)\n",
        "    context.fill()\n",
        "\n",
        "    surface.write_to_png(\"plate_iv_1.png\")\n",
        "\n",
        "\n",
        "show_svg(\"example.svg\")\n"
      ],
      "execution_count": null,
      "outputs": [
        {
          "output_type": "display_data",
          "data": {
            "text/plain": [
              "<IPython.core.display.SVG object>"
            ],
            "image/svg+xml": "<svg height=\"1000pt\" version=\"1.1\" viewBox=\"0 0 700 1000\" width=\"700pt\" xmlns=\"http://www.w3.org/2000/svg\" xmlns:xlink=\"http://www.w3.org/1999/xlink\">\n<g id=\"surface1\">\n<path d=\"M 0 0 L 700 0 L 700 333.332031 L 0 333.332031 Z M 0 0 \" style=\" stroke:none;fill-rule:nonzero;fill:rgb(34.117647%,72.941176%,85.882353%);fill-opacity:1;\"/>\n<path d=\"M 0 333.332031 L 700 333.332031 L 700 500 L 0 500 Z M 0 333.332031 \" style=\" stroke:none;fill-rule:nonzero;fill:rgb(0%,34.901961%,70.196078%);fill-opacity:1;\"/>\n<path d=\"M 0 500 L 700 500 L 700 666.667969 L 0 666.667969 Z M 0 500 \" style=\" stroke:none;fill-rule:nonzero;fill:rgb(100%,100%,40%);fill-opacity:1;\"/>\n<path d=\"M 0 666.667969 L 700 666.667969 L 700 1000 L 0 1000 Z M 0 666.667969 \" style=\" stroke:none;fill-rule:nonzero;fill:rgb(85.098039%,56.862745%,14.901961%);fill-opacity:1;\"/>\n<path d=\"M 280 233.332031 L 420 233.332031 L 420 333.332031 L 280 333.332031 Z M 280 233.332031 \" style=\" stroke:none;fill-rule:nonzero;fill:rgb(77.647059%,54.901961%,32.54902%);fill-opacity:1;\"/>\n<path d=\"M 280 666.667969 L 420 666.667969 L 420 766.667969 L 280 766.667969 Z M 280 666.667969 \" style=\" stroke:none;fill-rule:nonzero;fill:rgb(77.647059%,54.901961%,32.54902%);fill-opacity:1;\"/>\n</g>\n</svg>"
          },
          "metadata": {
            "tags": []
          }
        }
      ]
    },
    {
      "cell_type": "markdown",
      "metadata": {
        "id": "A8TUGO6sFgFr",
        "colab_type": "text"
      },
      "source": [
        "# Plate IV-3"
      ]
    },
    {
      "cell_type": "code",
      "metadata": {
        "id": "idEEfbUJFjpU",
        "colab_type": "code",
        "colab": {
          "base_uri": "https://localhost:8080/",
          "height": 1000
        },
        "outputId": "bd80dc80-f543-4a0a-d86c-605b11d9d935"
      },
      "source": [
        "a = 0.25\n",
        "\n",
        "top_color = \"#7099c2\"\n",
        "bottom_color = \"#f0f042\"\n",
        "\n",
        "common_color = \"#82c9a6\"\n",
        "\n",
        "with cairo.SVGSurface(\"example.svg\", 1000, 1000) as surface:\n",
        "    context = cairo.Context(surface)\n",
        "    context.scale(1000, 1000)\n",
        "\n",
        "    # Top half background\n",
        "    context.set_source_rgb(*to_rgb(top_color))\n",
        "    context.rectangle(0, 0, 1, 1/2)\n",
        "    context.fill()\n",
        "\n",
        "    # Bottom half background\n",
        "    context.set_source_rgb(*to_rgb(bottom_color))\n",
        "    context.rectangle(0, 1/2, 1, 1/2)\n",
        "    context.fill()\n",
        "\n",
        "    #common color\n",
        "    context.set_source_rgb(*to_rgb(common_color))\n",
        "    context.rectangle(a, 7*a/11 - 3/44, \n",
        "                      1-2*a, 7/11 - 14*a/11)\n",
        "    context.fill()\n",
        "\n",
        "    context.rectangle(a, 0.5 + 7*a/11 - 3/44,\n",
        "                      1-2*a, 7/11 - 14*a/11)\n",
        "    context.fill()\n",
        "\n",
        "    # Fill back in top.\n",
        "    context.set_source_rgb(*to_rgb(top_color))\n",
        "    for i in range(15):\n",
        "        context.rectangle(a + (1-2*a)/11 + 2*(i % 5) * (1-2*a)/11, \n",
        "                          (7*a/11 - 3/44) + (1-2*a)/11 + 2*(i % 3) * (1-2*a)/11, \n",
        "                          (1-2*a)/11, (1-2*a)/11)\n",
        "        \n",
        "        context.fill()\n",
        "\n",
        "    # Fill back in bottom.\n",
        "    context.set_source_rgb(*to_rgb(bottom_color))\n",
        "    for i in range(15):\n",
        "        \n",
        "        context.rectangle(a + (1-2*a)/11 + 2*(i % 5) * (1-2*a)/11, \n",
        "                          0.5 + (7*a/11 - 3/44) + (1-2*a)/11 + 2*(i % 3) * (1-2*a)/11, \n",
        "                          (1-2*a)/11, (1-2*a)/11)\n",
        "        \n",
        "        context.fill()\n",
        "\n",
        "    \n",
        "    surface.write_to_png(\"plate_iv_3.png\")\n",
        "\n",
        "\n",
        "show_svg(\"example.svg\")"
      ],
      "execution_count": null,
      "outputs": [
        {
          "output_type": "display_data",
          "data": {
            "text/plain": [
              "<IPython.core.display.SVG object>"
            ],
            "image/svg+xml": "<svg height=\"1000pt\" version=\"1.1\" viewBox=\"0 0 1000 1000\" width=\"1000pt\" xmlns=\"http://www.w3.org/2000/svg\" xmlns:xlink=\"http://www.w3.org/1999/xlink\">\n<g id=\"surface7\">\n<path d=\"M 0 0 L 1000 0 L 1000 500 L 0 500 Z M 0 0 \" style=\" stroke:none;fill-rule:nonzero;fill:rgb(43.921569%,60%,76.078431%);fill-opacity:1;\"/>\n<path d=\"M 0 500 L 1000 500 L 1000 1000 L 0 1000 Z M 0 500 \" style=\" stroke:none;fill-rule:nonzero;fill:rgb(94.117647%,94.117647%,25.882353%);fill-opacity:1;\"/>\n<path d=\"M 250 90.910156 L 750 90.910156 L 750 409.09375 L 250 409.09375 Z M 250 90.910156 \" style=\" stroke:none;fill-rule:nonzero;fill:rgb(50.980392%,78.823529%,65.098039%);fill-opacity:1;\"/>\n<path d=\"M 250 590.910156 L 750 590.910156 L 750 909.09375 L 250 909.09375 Z M 250 590.910156 \" style=\" stroke:none;fill-rule:nonzero;fill:rgb(50.980392%,78.823529%,65.098039%);fill-opacity:1;\"/>\n<path d=\"M 295.453125 136.363281 L 340.90625 136.363281 L 340.90625 181.816406 L 295.453125 181.816406 Z M 295.453125 136.363281 \" style=\" stroke:none;fill-rule:nonzero;fill:rgb(43.921569%,60%,76.078431%);fill-opacity:1;\"/>\n<path d=\"M 386.363281 227.273438 L 431.816406 227.273438 L 431.816406 272.726562 L 386.363281 272.726562 Z M 386.363281 227.273438 \" style=\" stroke:none;fill-rule:nonzero;fill:rgb(43.921569%,60%,76.078431%);fill-opacity:1;\"/>\n<path d=\"M 477.273438 318.183594 L 522.726562 318.183594 L 522.726562 363.636719 L 477.273438 363.636719 Z M 477.273438 318.183594 \" style=\" stroke:none;fill-rule:nonzero;fill:rgb(43.921569%,60%,76.078431%);fill-opacity:1;\"/>\n<path d=\"M 568.183594 136.363281 L 613.636719 136.363281 L 613.636719 181.816406 L 568.183594 181.816406 Z M 568.183594 136.363281 \" style=\" stroke:none;fill-rule:nonzero;fill:rgb(43.921569%,60%,76.078431%);fill-opacity:1;\"/>\n<path d=\"M 659.089844 227.273438 L 704.542969 227.273438 L 704.542969 272.726562 L 659.089844 272.726562 Z M 659.089844 227.273438 \" style=\" stroke:none;fill-rule:nonzero;fill:rgb(43.921569%,60%,76.078431%);fill-opacity:1;\"/>\n<path d=\"M 295.453125 318.183594 L 340.90625 318.183594 L 340.90625 363.636719 L 295.453125 363.636719 Z M 295.453125 318.183594 \" style=\" stroke:none;fill-rule:nonzero;fill:rgb(43.921569%,60%,76.078431%);fill-opacity:1;\"/>\n<path d=\"M 386.363281 136.363281 L 431.816406 136.363281 L 431.816406 181.816406 L 386.363281 181.816406 Z M 386.363281 136.363281 \" style=\" stroke:none;fill-rule:nonzero;fill:rgb(43.921569%,60%,76.078431%);fill-opacity:1;\"/>\n<path d=\"M 477.273438 227.273438 L 522.726562 227.273438 L 522.726562 272.726562 L 477.273438 272.726562 Z M 477.273438 227.273438 \" style=\" stroke:none;fill-rule:nonzero;fill:rgb(43.921569%,60%,76.078431%);fill-opacity:1;\"/>\n<path d=\"M 568.183594 318.183594 L 613.636719 318.183594 L 613.636719 363.636719 L 568.183594 363.636719 Z M 568.183594 318.183594 \" style=\" stroke:none;fill-rule:nonzero;fill:rgb(43.921569%,60%,76.078431%);fill-opacity:1;\"/>\n<path d=\"M 659.089844 136.363281 L 704.542969 136.363281 L 704.542969 181.816406 L 659.089844 181.816406 Z M 659.089844 136.363281 \" style=\" stroke:none;fill-rule:nonzero;fill:rgb(43.921569%,60%,76.078431%);fill-opacity:1;\"/>\n<path d=\"M 295.453125 227.273438 L 340.90625 227.273438 L 340.90625 272.726562 L 295.453125 272.726562 Z M 295.453125 227.273438 \" style=\" stroke:none;fill-rule:nonzero;fill:rgb(43.921569%,60%,76.078431%);fill-opacity:1;\"/>\n<path d=\"M 386.363281 318.183594 L 431.816406 318.183594 L 431.816406 363.636719 L 386.363281 363.636719 Z M 386.363281 318.183594 \" style=\" stroke:none;fill-rule:nonzero;fill:rgb(43.921569%,60%,76.078431%);fill-opacity:1;\"/>\n<path d=\"M 477.273438 136.363281 L 522.726562 136.363281 L 522.726562 181.816406 L 477.273438 181.816406 Z M 477.273438 136.363281 \" style=\" stroke:none;fill-rule:nonzero;fill:rgb(43.921569%,60%,76.078431%);fill-opacity:1;\"/>\n<path d=\"M 568.183594 227.273438 L 613.636719 227.273438 L 613.636719 272.726562 L 568.183594 272.726562 Z M 568.183594 227.273438 \" style=\" stroke:none;fill-rule:nonzero;fill:rgb(43.921569%,60%,76.078431%);fill-opacity:1;\"/>\n<path d=\"M 659.089844 318.183594 L 704.542969 318.183594 L 704.542969 363.636719 L 659.089844 363.636719 Z M 659.089844 318.183594 \" style=\" stroke:none;fill-rule:nonzero;fill:rgb(43.921569%,60%,76.078431%);fill-opacity:1;\"/>\n<path d=\"M 295.453125 636.363281 L 340.90625 636.363281 L 340.90625 681.816406 L 295.453125 681.816406 Z M 295.453125 636.363281 \" style=\" stroke:none;fill-rule:nonzero;fill:rgb(94.117647%,94.117647%,25.882353%);fill-opacity:1;\"/>\n<path d=\"M 386.363281 727.273438 L 431.816406 727.273438 L 431.816406 772.726562 L 386.363281 772.726562 Z M 386.363281 727.273438 \" style=\" stroke:none;fill-rule:nonzero;fill:rgb(94.117647%,94.117647%,25.882353%);fill-opacity:1;\"/>\n<path d=\"M 477.273438 818.183594 L 522.726562 818.183594 L 522.726562 863.636719 L 477.273438 863.636719 Z M 477.273438 818.183594 \" style=\" stroke:none;fill-rule:nonzero;fill:rgb(94.117647%,94.117647%,25.882353%);fill-opacity:1;\"/>\n<path d=\"M 568.183594 636.363281 L 613.636719 636.363281 L 613.636719 681.816406 L 568.183594 681.816406 Z M 568.183594 636.363281 \" style=\" stroke:none;fill-rule:nonzero;fill:rgb(94.117647%,94.117647%,25.882353%);fill-opacity:1;\"/>\n<path d=\"M 659.089844 727.273438 L 704.542969 727.273438 L 704.542969 772.726562 L 659.089844 772.726562 Z M 659.089844 727.273438 \" style=\" stroke:none;fill-rule:nonzero;fill:rgb(94.117647%,94.117647%,25.882353%);fill-opacity:1;\"/>\n<path d=\"M 295.453125 818.183594 L 340.90625 818.183594 L 340.90625 863.636719 L 295.453125 863.636719 Z M 295.453125 818.183594 \" style=\" stroke:none;fill-rule:nonzero;fill:rgb(94.117647%,94.117647%,25.882353%);fill-opacity:1;\"/>\n<path d=\"M 386.363281 636.363281 L 431.816406 636.363281 L 431.816406 681.816406 L 386.363281 681.816406 Z M 386.363281 636.363281 \" style=\" stroke:none;fill-rule:nonzero;fill:rgb(94.117647%,94.117647%,25.882353%);fill-opacity:1;\"/>\n<path d=\"M 477.273438 727.273438 L 522.726562 727.273438 L 522.726562 772.726562 L 477.273438 772.726562 Z M 477.273438 727.273438 \" style=\" stroke:none;fill-rule:nonzero;fill:rgb(94.117647%,94.117647%,25.882353%);fill-opacity:1;\"/>\n<path d=\"M 568.183594 818.183594 L 613.636719 818.183594 L 613.636719 863.636719 L 568.183594 863.636719 Z M 568.183594 818.183594 \" style=\" stroke:none;fill-rule:nonzero;fill:rgb(94.117647%,94.117647%,25.882353%);fill-opacity:1;\"/>\n<path d=\"M 659.089844 636.363281 L 704.542969 636.363281 L 704.542969 681.816406 L 659.089844 681.816406 Z M 659.089844 636.363281 \" style=\" stroke:none;fill-rule:nonzero;fill:rgb(94.117647%,94.117647%,25.882353%);fill-opacity:1;\"/>\n<path d=\"M 295.453125 727.273438 L 340.90625 727.273438 L 340.90625 772.726562 L 295.453125 772.726562 Z M 295.453125 727.273438 \" style=\" stroke:none;fill-rule:nonzero;fill:rgb(94.117647%,94.117647%,25.882353%);fill-opacity:1;\"/>\n<path d=\"M 386.363281 818.183594 L 431.816406 818.183594 L 431.816406 863.636719 L 386.363281 863.636719 Z M 386.363281 818.183594 \" style=\" stroke:none;fill-rule:nonzero;fill:rgb(94.117647%,94.117647%,25.882353%);fill-opacity:1;\"/>\n<path d=\"M 477.273438 636.363281 L 522.726562 636.363281 L 522.726562 681.816406 L 477.273438 681.816406 Z M 477.273438 636.363281 \" style=\" stroke:none;fill-rule:nonzero;fill:rgb(94.117647%,94.117647%,25.882353%);fill-opacity:1;\"/>\n<path d=\"M 568.183594 727.273438 L 613.636719 727.273438 L 613.636719 772.726562 L 568.183594 772.726562 Z M 568.183594 727.273438 \" style=\" stroke:none;fill-rule:nonzero;fill:rgb(94.117647%,94.117647%,25.882353%);fill-opacity:1;\"/>\n<path d=\"M 659.089844 818.183594 L 704.542969 818.183594 L 704.542969 863.636719 L 659.089844 863.636719 Z M 659.089844 818.183594 \" style=\" stroke:none;fill-rule:nonzero;fill:rgb(94.117647%,94.117647%,25.882353%);fill-opacity:1;\"/>\n</g>\n</svg>"
          },
          "metadata": {
            "tags": []
          }
        }
      ]
    },
    {
      "cell_type": "markdown",
      "metadata": {
        "id": "_ml2Pm9pyfGa",
        "colab_type": "text"
      },
      "source": [
        "# Plate IV-4"
      ]
    },
    {
      "cell_type": "code",
      "metadata": {
        "id": "CN1PU2YIyiB0",
        "colab_type": "code",
        "colab": {
          "base_uri": "https://localhost:8080/",
          "height": 1000
        },
        "outputId": "d3768d3f-f891-4f8c-8fae-188f2cfae769"
      },
      "source": [
        "theta = np.pi/90\n",
        "\n",
        "with cairo.SVGSurface(\"example.svg\", 750, 1000) as surface:\n",
        "    context = cairo.Context(surface)\n",
        "    context.scale(750, 1000)\n",
        "\n",
        "    # Top half background\n",
        "    context.set_source_rgb(*to_rgb(\"#400080\"))\n",
        "    context.rectangle(0, 0, 1, 1/2)\n",
        "    context.fill()\n",
        "\n",
        "    # Bottom half background\n",
        "    context.set_source_rgb(*to_rgb(\"#a68cf2\"))\n",
        "    context.rectangle(0, 1/2, 1, 1/2)\n",
        "    context.fill()\n",
        "\n",
        "    # Backing deceptive purple\n",
        "    context.set_source_rgb(*to_rgb(\"#8767e4\"))\n",
        "    context.rotate(theta)\n",
        "    context.rectangle(0.18, 0.075, 0.7, 0.84)\n",
        "    context.fill()\n",
        "    context.rotate(-theta)\n",
        "\n",
        "    # Top stripe green\n",
        "    context.set_source_rgb(*to_rgb(\"#00331a\"))\n",
        "    context.rectangle(0, 0.2, 1, 0.1)\n",
        "    context.fill()\n",
        "\n",
        "    # Middle band orange\n",
        "    context.set_source_rgb(*to_rgb(\"#e68019\"))\n",
        "    context.rectangle(0, 0.3, 1, 0.54)\n",
        "    context.fill()\n",
        "\n",
        "    \n",
        "    surface.write_to_png(\"plate_iv_4.png\")\n",
        "\n",
        "\n",
        "\n",
        "show_svg(\"example.svg\")"
      ],
      "execution_count": null,
      "outputs": [
        {
          "output_type": "display_data",
          "data": {
            "text/plain": [
              "<IPython.core.display.SVG object>"
            ],
            "image/svg+xml": "<svg height=\"1000pt\" version=\"1.1\" viewBox=\"0 0 750 1000\" width=\"750pt\" xmlns=\"http://www.w3.org/2000/svg\" xmlns:xlink=\"http://www.w3.org/1999/xlink\">\n<g id=\"surface13\">\n<path d=\"M 0 0 L 750 0 L 750 500 L 0 500 Z M 0 0 \" style=\" stroke:none;fill-rule:nonzero;fill:rgb(25.098039%,0%,50.196078%);fill-opacity:1;\"/>\n<path d=\"M 0 500 L 750 500 L 750 1000 L 0 1000 Z M 0 500 \" style=\" stroke:none;fill-rule:nonzero;fill:rgb(65.098039%,54.901961%,94.901961%);fill-opacity:1;\"/>\n<path d=\"M 132.953125 81.234375 L 657.632812 105.664062 L 635.644531 945.152344 L 110.964844 920.722656 Z M 132.953125 81.234375 \" style=\" stroke:none;fill-rule:nonzero;fill:rgb(52.941176%,40.392157%,89.411765%);fill-opacity:1;\"/>\n<path d=\"M 0 200 L 750 200 L 750 300 L 0 300 Z M 0 200 \" style=\" stroke:none;fill-rule:nonzero;fill:rgb(0%,20%,10.196078%);fill-opacity:1;\"/>\n<path d=\"M 0 300 L 750 300 L 750 840 L 0 840 Z M 0 300 \" style=\" stroke:none;fill-rule:nonzero;fill:rgb(90.196078%,50.196078%,9.803922%);fill-opacity:1;\"/>\n</g>\n</svg>"
          },
          "metadata": {
            "tags": []
          }
        }
      ]
    },
    {
      "cell_type": "code",
      "metadata": {
        "id": "EuGLwS3HKjXd",
        "colab_type": "code",
        "colab": {}
      },
      "source": [
        ""
      ],
      "execution_count": null,
      "outputs": []
    }
  ]
}